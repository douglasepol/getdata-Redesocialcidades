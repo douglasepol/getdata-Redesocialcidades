{
  "nbformat": 4,
  "nbformat_minor": 0,
  "metadata": {
    "colab": {
      "provenance": [],
      "authorship_tag": "ABX9TyO/zndaI1nW/bhvJSqKA/om",
      "include_colab_link": true
    },
    "kernelspec": {
      "name": "python3",
      "display_name": "Python 3"
    },
    "language_info": {
      "name": "python"
    }
  },
  "cells": [
    {
      "cell_type": "markdown",
      "metadata": {
        "id": "view-in-github",
        "colab_type": "text"
      },
      "source": [
        "<a href=\"https://colab.research.google.com/github/douglasepol/getdata-Redesocialcidades/blob/main/Redesocialcidades.ipynb\" target=\"_parent\"><img src=\"https://colab.research.google.com/assets/colab-badge.svg\" alt=\"Open In Colab\"/></a>"
      ]
    },
    {
      "cell_type": "markdown",
      "source": [
        "Lista de Todos os Indicadores\n"
      ],
      "metadata": {
        "id": "qluCGyffzfqX"
      }
    },
    {
      "cell_type": "code",
      "source": [
        "#!pip install python-dotenv"
      ],
      "metadata": {
        "colab": {
          "base_uri": "https://localhost:8080/"
        },
        "id": "ks4zrfaw8MyO",
        "outputId": "0570981a-6945-46cf-ade8-74c4c9695550"
      },
      "execution_count": 1,
      "outputs": [
        {
          "output_type": "stream",
          "name": "stdout",
          "text": [
            "Collecting python-dotenv\n",
            "  Downloading python_dotenv-1.0.1-py3-none-any.whl (19 kB)\n",
            "Installing collected packages: python-dotenv\n",
            "Successfully installed python-dotenv-1.0.1\n"
          ]
        }
      ]
    },
    {
      "cell_type": "code",
      "source": [
        "from dotenv import load_dotenv\n",
        "import os\n",
        "import requests\n",
        "import psycopg2\n",
        "from psycopg2.extras import execute_batch\n",
        "\n",
        "def get_api_data(url):\n",
        "    headers = {\n",
        "        'Accept': 'application/json',\n",
        "        'User-Agent': 'Mozilla/5.0'\n",
        "    }\n",
        "    response = requests.get(url, headers=headers)\n",
        "    if response.status_code == 200:\n",
        "        print(\"Dados recebidos com sucesso!\")\n",
        "        return response.json()\n",
        "    else:\n",
        "        print(\"Erro na solicitação:\", response.status_code)\n",
        "        return None\n",
        "\n",
        "def insert_data_to_db(db_params, query, data):\n",
        "    try:\n",
        "        with psycopg2.connect(**db_params) as conn:\n",
        "            with conn.cursor() as cur:\n",
        "                execute_batch(cur, query, data)\n",
        "                print(\"Dados inseridos com sucesso.\")\n",
        "    except psycopg2.DatabaseError as e:\n",
        "        print(\"Erro ao inserir dados:\", e)\n",
        "\n",
        "def main():\n",
        "    load_dotenv()\n",
        "    db_params = {\n",
        "        'dbname': os.getenv('DB_NAME'),\n",
        "        'user': os.getenv('DB_USER'),\n",
        "        'password': os.getenv('DB_PASSWORD'),\n",
        "        'host': os.getenv('DB_HOST'),\n",
        "        'port': os.getenv('DB_PORT')\n",
        "    }\n",
        "\n",
        "    # Defina a variável endpoint\n",
        "    endpoint = 'variables'  # 'cities' ou 'indicators' ou 'variables'\n",
        "\n",
        "    if endpoint == 'cities':\n",
        "        url = 'https://www.redesocialdecidades.org.br/cities'\n",
        "        insert_query = \"\"\"\n",
        "            INSERT INTO cidades (\n",
        "                  longitude, name_uri, name, uf, pais, summary, latitude\n",
        "              ) VALUES (\n",
        "                  %(longitude)s, %(name_uri)s, %(name)s, %(uf)s, %(pais)s, %(summary)s, %(latitude)s\n",
        "              );\n",
        "        \"\"\"\n",
        "        table_key = 'cities'  # Chave esperada no JSON\n",
        "\n",
        "    elif endpoint == 'indicators':\n",
        "        url = 'https://www.redesocialdecidades.org.br/download-indicators?city_id=1'\n",
        "        insert_query = \"\"\"\n",
        "            INSERT INTO dados_cidade (\n",
        "                state_name, city_name, axis_name, formula, formula_human, institute_id, period, value\n",
        "            ) VALUES (\n",
        "                %(state_name)s, %(city_name)s, %(axis_name)s, %(formula)s, %(formula_human)s, %(institute_id)s,\n",
        "                %(period)s, %(value)s\n",
        "            );\n",
        "        \"\"\"\n",
        "        table_key = 'data'  # Chave esperada no JSON\n",
        "\n",
        "    elif endpoint == 'variables':\n",
        "        url = 'https://www.redesocialdecidades.org.br/download-variables?city_id=1,398'\n",
        "        insert_query = \"\"\"\n",
        "            INSERT INTO demographic_data (\n",
        "                source, measurement_unit_name, valid_from, cognomen, city_name,\n",
        "                variable_id, city_id, is_basic, institute_id, period, exp_source,\n",
        "                value, name, observations, updated_at, type, user_id\n",
        "            ) VALUES (\n",
        "                %(source)s, %(measurement_unit_name)s, %(valid_from)s, %(cognomen)s, %(city_name)s,\n",
        "                %(variable_id)s, %(city_id)s, %(is_basic)s, %(institute_id)s, %(period)s, %(exp_source)s,\n",
        "                %(value)s, %(name)s, %(observations)s, %(updated_at)s, %(type)s, %(user_id)s\n",
        "            );\n",
        "        \"\"\"\n",
        "        table_key = 'data'  # Chave esperada no JSON\n",
        "\n",
        "    data = get_api_data(url)\n",
        "\n",
        "    if data and table_key in data:\n",
        "        insert_data_to_db(db_params, insert_query, data[table_key])\n",
        "\n",
        "if __name__ == \"__main__\":\n",
        "    main()\n"
      ],
      "metadata": {
        "colab": {
          "base_uri": "https://localhost:8080/"
        },
        "id": "MxTEd_w625qB",
        "outputId": "1e91ace5-57b3-4f89-ec1e-5e88d8feeb2a"
      },
      "execution_count": 5,
      "outputs": [
        {
          "output_type": "stream",
          "name": "stdout",
          "text": [
            "Dados recebidos com sucesso!\n",
            "Dados inseridos com sucesso.\n"
          ]
        }
      ]
    }
  ]
}